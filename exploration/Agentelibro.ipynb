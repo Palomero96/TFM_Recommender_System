{
 "cells": [
  {
   "cell_type": "code",
   "execution_count": null,
   "id": "8e6ef1b0",
   "metadata": {},
   "outputs": [],
   "source": [
    "from langchain.embeddings import HuggingFaceEmbeddings\n",
    "from langchain.vectorstores import FAISS\n",
    "from langchain.llms import Ollama\n",
    "from langchain_ollama import OllamaLLM\n",
    "from langchain.schema import Document\n",
    "import numpy as np\n",
    "from langchain_core.output_parsers import StrOutputParser\n",
    "\n",
    "# === Datos de ejemplo ===\n",
    "libros = [\n",
    "    {\"titulo\": \"1984\", \"descripcion\": \"Una novela distópica sobre un régimen totalitario que lo vigila todo.\"},\n",
    "    {\"titulo\": \"El nombre del viento\", \"descripcion\": \"Historia de Kvothe, un joven con un talento excepcional para la magia y la música.\"},\n",
    "    {\"titulo\": \"Dune\", \"descripcion\": \"Una epopeya de ciencia ficción sobre poder, religión y ecología en un planeta desértico.\"},\n",
    "    {\"titulo\": \"Un mundo feliz\", \"descripcion\": \"Sociedad futurista donde la estabilidad se consigue a costa de la libertad individual.\"},\n",
    "]\n",
    "\n",
    "# Crear documentos\n",
    "documentos = [\n",
    "    Document(page_content=libro[\"descripcion\"], metadata={\"titulo\": libro[\"titulo\"]})\n",
    "    for libro in libros\n",
    "]\n",
    "\n",
    "# Embeddings\n",
    "embeddings = HuggingFaceEmbeddings(model_name=\"all-MiniLM-L6-v2\")\n",
    "\n",
    "# Vectorstore FAISS\n",
    "vectorstore = FAISS.from_documents(documentos, embedding=embeddings)\n",
    "\n",
    "llm = OllamaLLM(\n",
    "    model=\"qwen2.5\",\n",
    "    base_url=\"http://localhost:11434\",\n",
    "    num_gpu_layers=90,       # Aceleración Metal máxima\n",
    "    num_ctx=1536,            # Balance memoria/contexto\n",
    "    temperature=0.5,\n",
    "    )\n",
    "\n"
   ]
  },
  {
   "cell_type": "code",
   "execution_count": 20,
   "id": "9eb1b1a6",
   "metadata": {},
   "outputs": [
    {
     "name": "stdout",
     "output_type": "stream",
     "text": [
      "\n",
      "page_content='Sociedad futurista donde la estabilidad se consigue a costa de la libertad individual.' metadata={'titulo': 'Un mundo feliz'}\n",
      "\n",
      "page_content='Una novela distópica sobre un régimen totalitario que lo vigila todo.' metadata={'titulo': '1984'}\n",
      "\n",
      "page_content='Historia de Kvothe, un joven con un talento excepcional para la magia y la música.' metadata={'titulo': 'El nombre del viento'}\n",
      "\n",
      "page_content='Una epopeya de ciencia ficción sobre poder, religión y ecología en un planeta desértico.' metadata={'titulo': 'Dune'}\n"
     ]
    }
   ],
   "source": [
    "# Retrieve and generate using the relevant snippets of the blog.\n",
    "retriever = vectorstore.as_retriever()\n",
    "\n",
    "retrieved_docs = retriever.invoke(\"\")\n",
    "\n",
    "for retrieved_doc in retrieved_docs:\n",
    "    print()\n",
    "    print(retrieved_doc)\n"
   ]
  },
  {
   "cell_type": "code",
   "execution_count": 21,
   "id": "9f276050",
   "metadata": {},
   "outputs": [],
   "source": [
    "from langchain.prompts import (\n",
    "    PromptTemplate,\n",
    "    ChatPromptTemplate,\n",
    "    HumanMessagePromptTemplate,\n",
    "    SystemMessagePromptTemplate\n",
    ")\n",
    "\n",
    "template = \"\"\"Eres un recomendador de libros\n",
    "Tienes el context para responder a la Question \n",
    "Context: {context}\n",
    "\n",
    "Question: {question}\n",
    "\n",
    "\n",
    "Helpful Answer:\"\"\"\n",
    "\n",
    "custom_rag_prompt = PromptTemplate.from_template(template)"
   ]
  },
  {
   "cell_type": "code",
   "execution_count": 24,
   "id": "a10335eb",
   "metadata": {},
   "outputs": [],
   "source": [
    "from operator import itemgetter\n",
    "\n",
    "rag_chain = (\n",
    "    {\n",
    "        \"context\": itemgetter(\"question\") | retriever,\n",
    "        \"question\": itemgetter(\"question\"),\n",
    "    }\n",
    "    | custom_rag_prompt\n",
    "    | llm\n",
    "    | StrOutputParser()\n",
    ")"
   ]
  },
  {
   "cell_type": "code",
   "execution_count": 28,
   "id": "8bba4337",
   "metadata": {},
   "outputs": [
    {
     "data": {
      "text/plain": [
       "'La canción \"Wonderwall\" de Oasis es una pieza emotiva y poética que habla sobre amor, esperanza y conexión. Basándome en tu solicitud, te recomendaría el libro **\"El nombre del viento\"** (título original en inglés: *The Name of the Wind*) de Patrick Rothfuss.\\n\\nEste libro combina elementos de narración épica con un tono poético que puede recordar a la profundidad emocional y la riqueza lingüística de \"Wonderwall\". La historia se centra en Kvothe, un personaje complejo y fascinante, similar al protagonista de la canción, cuya vida está llena de aventuras, magia y música.\\n\\nAunque no es una adaptación directa a la canción, el ambiente poético y la introspección emocional del libro podrían resonar contigo en un nivel similar.'"
      ]
     },
     "execution_count": 28,
     "metadata": {},
     "output_type": "execute_result"
    }
   ],
   "source": [
    "rag_chain.invoke({\"question\": \"Quiero un libro del que pueda llegar a ser similar a la cancion Wondewall de Oasis\"})"
   ]
  }
 ],
 "metadata": {
  "kernelspec": {
   "display_name": "UNIR_Practicas",
   "language": "python",
   "name": "python3"
  },
  "language_info": {
   "codemirror_mode": {
    "name": "ipython",
    "version": 3
   },
   "file_extension": ".py",
   "mimetype": "text/x-python",
   "name": "python",
   "nbconvert_exporter": "python",
   "pygments_lexer": "ipython3",
   "version": "3.10.16"
  }
 },
 "nbformat": 4,
 "nbformat_minor": 5
}
