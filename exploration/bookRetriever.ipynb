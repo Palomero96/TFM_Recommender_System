{
 "cells": [
  {
   "cell_type": "code",
   "execution_count": 11,
   "id": "6e38c13f",
   "metadata": {},
   "outputs": [],
   "source": [
    "from langchain_ollama import OllamaLLM\n",
    "from langchain_core.documents import Document\n",
    "from langchain_community.vectorstores import FAISS\n",
    "from langchain_text_splitters import RecursiveCharacterTextSplitter\n",
    "from langchain_community.document_loaders import CSVLoader\n",
    "from langchain_community.embeddings import OllamaEmbeddings"
   ]
  },
  {
   "cell_type": "code",
   "execution_count": 18,
   "id": "e51989eb",
   "metadata": {},
   "outputs": [],
   "source": [
    "# %%\n",
    "from langchain_community.vectorstores import FAISS\n",
    "from langchain_community.embeddings import OllamaEmbeddings\n",
    "from langchain_core.output_parsers import StrOutputParser\n",
    "from langchain_core.prompts import ChatPromptTemplate\n",
    "from langchain_community.llms import Ollama\n",
    "from langchain_community.document_loaders import CSVLoader\n",
    "from langchain.text_splitter import RecursiveCharacterTextSplitter\n",
    "import pandas as pd\n",
    "import os\n"
   ]
  },
  {
   "cell_type": "code",
   "execution_count": 20,
   "id": "6d1658ff",
   "metadata": {},
   "outputs": [],
   "source": [
    "# Cargar y procesar el CSV\n",
    "loader = CSVLoader(file_path=\"books.csv\")\n",
    "data = loader.load()\n",
    "        \n",
    "# Dividir los documento\n",
    "text_splitter = RecursiveCharacterTextSplitter(\n",
    "            chunk_size=1000,\n",
    "            chunk_overlap=200\n",
    "        )\n",
    "splits = text_splitter.split_documents(data)\n",
    "        \n",
    "# Crear embeddings y vectorstore\n",
    "embeddings = OllamaEmbeddings(\n",
    "    model=\"qwen2.5\",\n",
    "    base_url=\"http://192.168.0.25:11434\"\n",
    ")\n",
    "vector = FAISS.from_documents(splits, embeddings)\n",
    "retriever = vector.as_retriever(earch_kwargs={\"k\": 1})\n",
    "llm = OllamaLLM(\n",
    "    model=\"qwen2.5\",\n",
    "    base_url=\"http://192.168.0.25:11434\",\n",
    "    num_gpu_layers=90,       # Aceleración Metal máxima\n",
    "    num_ctx=1536,            # Balance memoria/contexto\n",
    "    temperature=0.5,\n",
    ")"
   ]
  },
  {
   "cell_type": "code",
   "execution_count": 24,
   "id": "403cc630",
   "metadata": {},
   "outputs": [],
   "source": [
    "# %%\n",
    "# Definir el prompt para recomendaciones\n",
    "template = \"\"\"Eres un asistente literario experto en recomendar libros. \n",
    "Basándote en el contexto proporcionado, recomienda libros que coincidan con los gustos del usuario.\n",
    "\n",
    "Contexto:\n",
    "{context}\n",
    "\n",
    "Consulta del usuario: {query}\n",
    "\n",
    "Proporciona:\n",
    "1. 1 recomendaciones de libros con título y autor\n",
    "2. Breve explicación de por qué cada libro podría gustarle\n",
    "3. Género y año de publicación\n",
    "4. Usa un tono amigable y entusiasta\n",
    "\n",
    "Formato de respuesta:\n",
    "### Recomendaciones para [resumen de la consulta]\n",
    "\n",
    "1. **Título del Libro** - Autor (Año)\n",
    "   - Género: [género]\n",
    "   - ¿Por qué?: [explicación]\n",
    "   \n",
    "... (repetir para cada recomendación)\"\"\"\n",
    "\n",
    "prompt = ChatPromptTemplate.from_template(template)\n",
    "\n",
    "# Crear cadena de recomendación\n",
    "recommendation_chain = (\n",
    "    {\"context\": retriever, \"query\": lambda x: x[\"query\"]}\n",
    "    | prompt\n",
    "    | llm\n",
    "    | StrOutputParser()\n",
    ")"
   ]
  },
  {
   "cell_type": "code",
   "execution_count": 25,
   "id": "3a3c94cb",
   "metadata": {},
   "outputs": [
    {
     "name": "stdout",
     "output_type": "stream",
     "text": [
      "\n",
      "\u001b[1mConsulta:\u001b[0m Libros clásicos que todo el mundo debería leer\n",
      "\n",
      "\u001b[1mRecomendaciones:\u001b[0m\n",
      "### Recomendaciones para libros clásicos que todo el mundo debería leer\n",
      "\n",
      "1. **Cien años de soledad** - Gabriel García Márquez (1967)\n",
      "   - Género: realismo mágico | ficción literaria | saga familiar\n",
      "   - ¿Por qué?: \"Cien años de soledad\" es una obra maestra que combina la realidad y el fantástico en un relato épico sobre la familia Buendía. García Márquez nos transporta a un pueblo mágico llamado Macondo, donde los eventos se entrelazan con una magia realista que cautivará tu imaginación.\n",
      "\n",
      "2. **1984** - George Orwell (1949)\n",
      "   - Género: distopía | ficción política | clásico\n",
      "   - ¿Por qué?: \"1984\" es un retrato sombrío pero indispensable de un futuro totalitario bajo el control omnipresente del Partido. Orwell nos muestra cómo la verdad y la individualidad son suprimidas, lo que hace que esta obra sea más relevante hoy que nunca.\n",
      "\n",
      "Estos libros no solo son clásicos, sino también fundamentales para entender la literatura y la historia del siglo XX. Son una invitación a viajar a través de diferentes mundos y realidades, explorar ideas profundas y reflexionar sobre el presente y el futuro.\n"
     ]
    }
   ],
   "source": [
    "# %%\n",
    "# Función para probar recomendaciones\n",
    "def test_recommendation(query):\n",
    "    print(f\"\\n\\033[1mConsulta:\\033[0m {query}\")\n",
    "    print(\"\\n\\033[1mRecomendaciones:\\033[0m\")\n",
    "    result = recommendation_chain.invoke({\"query\": query})\n",
    "    print(result)\n",
    "\n",
    "# %% [markdown]\n",
    "\"\"\"\n",
    "## Pruebas del sistema\n",
    "Ejecuta las siguientes celdas para probar diferentes consultas\n",
    "\"\"\"\n",
    "\n",
    "# %%\n",
    "test_recommendation(\"Libros clásicos que todo el mundo debería leer\")\n"
   ]
  }
 ],
 "metadata": {
  "kernelspec": {
   "display_name": "UNIR_TFM",
   "language": "python",
   "name": "python3"
  },
  "language_info": {
   "codemirror_mode": {
    "name": "ipython",
    "version": 3
   },
   "file_extension": ".py",
   "mimetype": "text/x-python",
   "name": "python",
   "nbconvert_exporter": "python",
   "pygments_lexer": "ipython3",
   "version": "3.10.16"
  }
 },
 "nbformat": 4,
 "nbformat_minor": 5
}
